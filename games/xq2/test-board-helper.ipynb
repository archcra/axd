{
 "cells": [
  {
   "cell_type": "code",
   "execution_count": 1,
   "metadata": {},
   "outputs": [
    {
     "name": "stdout",
     "output_type": "stream",
     "text": [
      "\n",
      "  9 车 马 象 士 将 士 象 马 车\n",
      "  8 ・ ・ ・ ・ ・ ・ ・ ・ ・\n",
      "  7 ・ 炮 ・ ・ ・ ・ ・ 炮 ・\n",
      "  6 卒 ・ 卒 ・ 卒 ・ 卒 ・ 卒\n",
      "  5 ・ ・ ・ ・ ・ ・ ・ ・ ・\n",
      "  4 ・ ・ ・ ・ ・ ・ ・ ・ ・\n",
      "  3 兵 ・ 兵 ・ 兵 ・ 兵 ・ 兵\n",
      "  2 ・ 炮 ・ ・ ・ ・ ・ 炮 ・\n",
      "  1 ・ ・ ・ ・ ・ ・ ・ ・ ・\n",
      "  0 车 马 相 仕 帅 仕 相 马 车\n",
      "    ０ １ ２ ３ ４ ５ ６ ７ ８ \n",
      "\n",
      "\n",
      "moves 0 is:  (106, 93) 0304\n"
     ]
    }
   ],
   "source": [
    "from boardHelper import Position\n",
    "\n",
    "pos = Position.initial\n",
    "moves = list(Position.gen_moves(pos))\n",
    "Position.render(pos)\n",
    "print ('moves 0 is: ', moves[0], Position.translateMove(moves[0][0],moves[0][1] ))\n",
    "#newPos = Position.move(pos, moves[0])\n",
    "#Position.render(newPos)"
   ]
  },
  {
   "cell_type": "code",
   "execution_count": 3,
   "metadata": {},
   "outputs": [
    {
     "name": "stdout",
     "output_type": "stream",
     "text": [
      "translatedMoves:  ['0304', '2324', '4344', '6364', '8384', '1213', '1214', '1215', '1216', '1219', '1222', '1232', '1242', '1252', '1262', '1211', '1202', '7273', '7274', '7275', '7276', '7279', '7282', '7271', '7262', '7252', '7242', '7232', '7222', '0001', '0002', '1022', '1002', '2042', '2002', '3041', '4041', '5041', '6082', '6042', '7082', '7062', '8081', '8082']\n"
     ]
    }
   ],
   "source": [
    "\n",
    "pos = Position.initial\n",
    "moves = list(Position.gen_moves(pos))\n",
    "translatedMoves = list(map((lambda item: Position.translateMove(item[0], item[1])), moves))\n",
    "print ('translatedMoves: ', translatedMoves)"
   ]
  },
  {
   "cell_type": "code",
   "execution_count": 5,
   "metadata": {},
   "outputs": [
    {
     "name": "stdout",
     "output_type": "stream",
     "text": [
      "10\n",
      "11\n",
      "12\n",
      "13\n",
      "14\n",
      "15\n",
      "16\n",
      "17\n",
      "18\n",
      "19\n"
     ]
    }
   ],
   "source": [
    "for i in range(10, 20):\n",
    "    print (i)"
   ]
  },
  {
   "cell_type": "code",
   "execution_count": 16,
   "metadata": {},
   "outputs": [
    {
     "name": "stdout",
     "output_type": "stream",
     "text": [
      "Index is:  151\n"
     ]
    }
   ],
   "source": [
    "\n",
    "logicColumn = 8\n",
    "logicRow = 0\n",
    "\n",
    "index = Position.getIndex(logicColumn, logicRow)\n",
    "print ('Index is: ', index)"
   ]
  },
  {
   "cell_type": "code",
   "execution_count": 8,
   "metadata": {},
   "outputs": [
    {
     "name": "stdout",
     "output_type": "stream",
     "text": [
      "move is:  [145, 132]\n",
      "back2dp is:  (0, 0) (0, 1)\n"
     ]
    }
   ],
   "source": [
    "moveStr = '0001'\n",
    "move = Position.move2indexFormat(moveStr)\n",
    "print ('move is: ', move)\n",
    "\n",
    "print ('back2dp is: ', Position.getRowColumn(move[0]), Position.getRowColumn(move[1]))"
   ]
  },
  {
   "cell_type": "code",
   "execution_count": 13,
   "metadata": {},
   "outputs": [
    {
     "name": "stdout",
     "output_type": "stream",
     "text": [
      "-1 2\n"
     ]
    }
   ],
   "source": [
    "s = 'abc'\n",
    "print (s.find('z'), s.find('c'))"
   ]
  },
  {
   "cell_type": "code",
   "execution_count": 3,
   "metadata": {},
   "outputs": [
    {
     "name": "stdout",
     "output_type": "stream",
     "text": [
      "[56, 57]\n",
      "newBoard is::: '\\n            \\n            \\n ....k....  \\n .........  \\n ...P.P...  \\n .........  \\n .........  \\n .........  \\n .........  \\n ....p....  \\n .....p...  \\n ....K....  \\n            \\n            '\n",
      "('            \\n            \\n  ....k.... \\n  ...P..... \\n  ....P.... \\n  ......... \\n  ......... \\n  ......... \\n  ......... \\n  ...p.p... \\n  ......... \\n  ....K.... \\n            \\n            \\n', False)\n"
     ]
    }
   ],
   "source": [
    "# Position.move(self.board, action)\n",
    "\n",
    "b0 = '\\n            \\n            \\n ....k....  \\n .........  \\n ..P..P...  \\n .........  \\n .........  \\n .........  \\n .........  \\n ....p....  \\n .....p...  \\n ....K....  \\n            \\n            '\n",
    "#    '            \\n            \\n  ....k.... \\n  ...P..... \\n  ....P.... \\n  ......... \\n  ......... \\n  ......... \\n  ......... \\n  ...p.p... \\n  ......... \\n  ....K.... \\n            \\n            \\n'\n",
    "#    '\\n            \\n            \\n ....k....  \\n .........  \\n ...P.P...  \\n .........  \\n .........  \\n .........  \\n .........  \\n ....p....  \\n .....p...  \\n ....K....  \\n            \\n            '\n",
    "actionStr = '2737'\n",
    "action = Position.move2indexFormat(actionStr)\n",
    "print (action)\n",
    "b1 = Position.move(b0, action)\n",
    "print (repr(b1))\n",
    "# 第一行看似缺了一个空格，不过实际上没缺。\n",
    "\n"
   ]
  },
  {
   "cell_type": "code",
   "execution_count": 5,
   "metadata": {},
   "outputs": [
    {
     "name": "stdout",
     "output_type": "stream",
     "text": [
      "'            \\n            \\n  ....k.... \\n  ...P..... \\n  ....P.... \\n  ......... \\n  ......... \\n  ......... \\n  ......... \\n  ...p.p... \\n  ......... \\n  ....K.... \\n            \\n            \\n' 182 182\n"
     ]
    }
   ],
   "source": [
    "b0 = '\\n            \\n            \\n ....k....  \\n .........  \\n ...P.P...  \\n .........  \\n .........  \\n .........  \\n .........  \\n ....p....  \\n .....p...  \\n ....K....  \\n            \\n            '\n",
    "#    '            \\n            \\n  ....k.... \\n  ...P..... \\n  ....P.... \\n  ......... \\n  ......... \\n  ......... \\n  ......... \\n  ...p.p... \\n  ......... \\n  ....K.... \\n            \\n            \\n'\n",
    "b1 = b0[::-1].swapcase()\n",
    "print (repr(b1), len(b1), len(b0))\n"
   ]
  },
  {
   "cell_type": "code",
   "execution_count": 6,
   "metadata": {},
   "outputs": [
    {
     "data": {
      "text/plain": [
       "13"
      ]
     },
     "execution_count": 6,
     "metadata": {},
     "output_type": "execute_result"
    }
   ],
   "source": [
    "s1 = '            \\n'\n",
    "len(s1)\n",
    "s2 = '            \\n'"
   ]
  },
  {
   "cell_type": "code",
   "execution_count": 2,
   "metadata": {},
   "outputs": [
    {
     "name": "stdout",
     "output_type": "stream",
     "text": [
      "\n",
      "反序的对称为：\n",
      "\n",
      "'            \\n            \\n  ...k..... \\n  ......... \\n  ...P...P. \\n  ......... \\n  ......... \\n  ......... \\n  ......... \\n  ..p...... \\n  ...p..... \\n  ....K.... \\n            \\n            \\n'\n",
      "12 ,12 ,12 ,12 ,12 ,12 ,12 ,12 ,12 ,12 ,12 ,12 ,12 ,12 ,0 ,\n",
      "正序的对称为：\n",
      "\n",
      "'            \\n            \\n ....k....  \\n .....P...  \\n ....P....  \\n .........  \\n .........  \\n .........  \\n .........  \\n ...p.p...  \\n .........  \\n ....K....  \\n            \\n            \\n' \n",
      "\n",
      "12 ,12 ,12 ,12 ,12 ,12 ,12 ,12 ,12 ,12 ,12 ,12 ,12 ,12 ,0 ,"
     ]
    }
   ],
   "source": [
    "# b='\\n            \\n            \\n ....k....  \\n .........  \\n ..P..P...  \\n .........  \\n .........  \\n .........  \\n .........  \\n ....p....  \\n .....p...  \\n ....K....  \\n            \\n            '\n",
    "# 反序\n",
    "b = '\\n            \\n            \\n .....k...  \\n .........  \\n .P...P...  \\n .........  \\n .........  \\n .........  \\n .........  \\n ......p..  \\n .....p...  \\n ....K....  \\n            \\n            '\n",
    "\n",
    "b1 = Position.getSymmetricalBoard(b)\n",
    "print ('\\n反序的对称为：\\n')\n",
    "\n",
    "print (repr(b1))\n",
    "\n",
    "# '             \\n            \\n  ....k.... \\n  ......... \\n  ...P..P.. \\n  ......... \\n  ......... \\n  ......... \\n  ......... \\n  ....p.... \\n  ...p..... \\n  ....K.... \\n            \\n           \\n'\n",
    "# '            \\n            \\n ....k....  \\n .....P...  \\n .....P...  \\n .........  \\n .........  \\n .........  \\n .........  \\n .p...p...  \\n .........  \\n .....K...  \\n            \\n            \\n'\n",
    "# 对称的盘面，第一行，好像是多了一个空格。啥时候多的呢？\n",
    "sb1 = b1.split('\\n')\n",
    "for i in range(len(sb1)):\n",
    "    print ( len(sb1[i]),',', end='')\n",
    "\n",
    "# 正序\n",
    "b2 = '            \\n            \\n  ....k.... \\n  ...P..... \\n  ....P.... \\n  ......... \\n  ......... \\n  ......... \\n  ......... \\n  ...p.p... \\n  ......... \\n  ....K.... \\n            \\n            \\n'\n",
    "b3 = Position.getSymmetricalBoard(b2)\n",
    "sb3 = b3.split('\\n')\n",
    "print ('\\n正序的对称为：\\n')\n",
    "print (repr(b3), '\\n')\n",
    "for i in range(len(sb3)):\n",
    "    print ( len(sb3[i]),',', end='')"
   ]
  },
  {
   "cell_type": "code",
   "execution_count": 3,
   "metadata": {},
   "outputs": [
    {
     "name": "stdout",
     "output_type": "stream",
     "text": [
      "\n",
      "反序的对称为：\n",
      "\n",
      "'            \\n            \\n .P.......  \\n .........  \\n ...k.....  \\n .........  \\n .........  \\n .........  \\n .........  \\n ....pp...  \\n .........  \\n .....K...  \\n            \\n            \\n'\n",
      "12 ,12 ,12 ,12 ,12 ,12 ,12 ,12 ,12 ,12 ,12 ,12 ,12 ,12 ,0 ,"
     ]
    }
   ],
   "source": [
    "\n",
    "\n",
    "\n",
    "b = '            \\n            \\n  .......P. \\n  ......... \\n  .....k... \\n  ......... \\n  ......... \\n  ......... \\n  ......... \\n  ...pp.... \\n  ......... \\n  ...K..... \\n            \\n            \\n'\n",
    "\n",
    "b1 = Position.getSymmetricalBoard(b)\n",
    "print ('\\n反序的对称为：\\n')\n",
    "\n",
    "print (repr(b1))\n",
    "\n",
    "# '             \\n            \\n  ....k.... \\n  ......... \\n  ...P..P.. \\n  ......... \\n  ......... \\n  ......... \\n  ......... \\n  ....p.... \\n  ...p..... \\n  ....K.... \\n            \\n           \\n'\n",
    "# '            \\n            \\n ....k....  \\n .....P...  \\n .....P...  \\n .........  \\n .........  \\n .........  \\n .........  \\n .p...p...  \\n .........  \\n .....K...  \\n            \\n            \\n'\n",
    "# 对称的盘面，第一行，好像是多了一个空格。啥时候多的呢？\n",
    "sb1 = b1.split('\\n')\n",
    "for i in range(len(sb1)):\n",
    "    print ( len(sb1[i]),',', end='')\n",
    "\n",
    "\n"
   ]
  },
  {
   "cell_type": "code",
   "execution_count": 1,
   "metadata": {},
   "outputs": [
    {
     "name": "stdout",
     "output_type": "stream",
     "text": [
      "            \n",
      "            \n",
      "  rnbakabnr \n",
      "  ......... \n",
      "  .c.....c. \n",
      "  p.p.p.p.p \n",
      "  ......... \n",
      "  ......... \n",
      "  P.P.P.P.P \n",
      "  .C.....C. \n",
      "  ......... \n",
      "  RNBAKABNR \n",
      "            \n",
      "            \n",
      "\n",
      "'            \\n            \\n  rnbakabnr \\n  ......... \\n  .c.....c. \\n  p.p.p.p.p \\n  ......... \\n  ......... \\n  P.P.P.P.P \\n  .C.....C. \\n  ......... \\n  RNBAKABNR \\n            \\n            \\n' 182\n"
     ]
    }
   ],
   "source": [
    "from boardHelper import Position\n",
    "\n",
    "pos = Position.initial\n",
    "print (pos)\n",
    "b1 = Position.getSymmetricalBoard(pos)\n",
    "print (repr(b1), len(b1))"
   ]
  },
  {
   "cell_type": "code",
   "execution_count": null,
   "metadata": {},
   "outputs": [],
   "source": []
  }
 ],
 "metadata": {
  "kernelspec": {
   "display_name": "Python 3",
   "language": "python",
   "name": "python3"
  },
  "language_info": {
   "codemirror_mode": {
    "name": "ipython",
    "version": 3
   },
   "file_extension": ".py",
   "mimetype": "text/x-python",
   "name": "python",
   "nbconvert_exporter": "python",
   "pygments_lexer": "ipython3",
   "version": "3.6.3"
  }
 },
 "nbformat": 4,
 "nbformat_minor": 2
}
